{
  "nbformat": 4,
  "nbformat_minor": 0,
  "metadata": {
    "colab": {
      "provenance": []
    },
    "kernelspec": {
      "name": "python3",
      "display_name": "Python 3"
    },
    "language_info": {
      "name": "python"
    }
  },
  "cells": [
    {
      "cell_type": "code",
      "source": [
        "#YouTube Data Analysis\n",
        "\n",
        "df = pd.read_csv('/content/YouTube_data.csv')\n",
        "\n",
        "df.head()\n"
      ],
      "metadata": {
        "colab": {
          "base_uri": "https://localhost:8080/",
          "height": 206
        },
        "id": "7v9mf5jYupOI",
        "outputId": "da365547-f316-4b5f-eabd-0960ef3903ca"
      },
      "execution_count": 30,
      "outputs": [
        {
          "output_type": "execute_result",
          "data": {
            "text/plain": [
              "             Video Title Upload Date  Views  Likes  Comments  \\\n",
              "0      How to Edit Reels  2024-08-01   1200    120        15   \n",
              "1          Loopin Teaser  2024-08-05   4000    400        45   \n",
              "2       Behind the Sound  2024-08-08   1500    150        18   \n",
              "3          My Setup Tour  2024-08-10   1000    100        10   \n",
              "4  Instagram Growth Tips  2024-08-15   2500    250        22   \n",
              "\n",
              "   Watch Time (mins)  Estimated Revenue ($)  \n",
              "0                600                    1.2  \n",
              "1               3200                    8.5  \n",
              "2                700                    2.1  \n",
              "3                500                    1.0  \n",
              "4               1500                    4.2  "
            ],
            "text/html": [
              "\n",
              "  <div id=\"df-3a73b1f6-f019-4a6f-aa10-8596888bbd57\" class=\"colab-df-container\">\n",
              "    <div>\n",
              "<style scoped>\n",
              "    .dataframe tbody tr th:only-of-type {\n",
              "        vertical-align: middle;\n",
              "    }\n",
              "\n",
              "    .dataframe tbody tr th {\n",
              "        vertical-align: top;\n",
              "    }\n",
              "\n",
              "    .dataframe thead th {\n",
              "        text-align: right;\n",
              "    }\n",
              "</style>\n",
              "<table border=\"1\" class=\"dataframe\">\n",
              "  <thead>\n",
              "    <tr style=\"text-align: right;\">\n",
              "      <th></th>\n",
              "      <th>Video Title</th>\n",
              "      <th>Upload Date</th>\n",
              "      <th>Views</th>\n",
              "      <th>Likes</th>\n",
              "      <th>Comments</th>\n",
              "      <th>Watch Time (mins)</th>\n",
              "      <th>Estimated Revenue ($)</th>\n",
              "    </tr>\n",
              "  </thead>\n",
              "  <tbody>\n",
              "    <tr>\n",
              "      <th>0</th>\n",
              "      <td>How to Edit Reels</td>\n",
              "      <td>2024-08-01</td>\n",
              "      <td>1200</td>\n",
              "      <td>120</td>\n",
              "      <td>15</td>\n",
              "      <td>600</td>\n",
              "      <td>1.2</td>\n",
              "    </tr>\n",
              "    <tr>\n",
              "      <th>1</th>\n",
              "      <td>Loopin Teaser</td>\n",
              "      <td>2024-08-05</td>\n",
              "      <td>4000</td>\n",
              "      <td>400</td>\n",
              "      <td>45</td>\n",
              "      <td>3200</td>\n",
              "      <td>8.5</td>\n",
              "    </tr>\n",
              "    <tr>\n",
              "      <th>2</th>\n",
              "      <td>Behind the Sound</td>\n",
              "      <td>2024-08-08</td>\n",
              "      <td>1500</td>\n",
              "      <td>150</td>\n",
              "      <td>18</td>\n",
              "      <td>700</td>\n",
              "      <td>2.1</td>\n",
              "    </tr>\n",
              "    <tr>\n",
              "      <th>3</th>\n",
              "      <td>My Setup Tour</td>\n",
              "      <td>2024-08-10</td>\n",
              "      <td>1000</td>\n",
              "      <td>100</td>\n",
              "      <td>10</td>\n",
              "      <td>500</td>\n",
              "      <td>1.0</td>\n",
              "    </tr>\n",
              "    <tr>\n",
              "      <th>4</th>\n",
              "      <td>Instagram Growth Tips</td>\n",
              "      <td>2024-08-15</td>\n",
              "      <td>2500</td>\n",
              "      <td>250</td>\n",
              "      <td>22</td>\n",
              "      <td>1500</td>\n",
              "      <td>4.2</td>\n",
              "    </tr>\n",
              "  </tbody>\n",
              "</table>\n",
              "</div>\n",
              "    <div class=\"colab-df-buttons\">\n",
              "\n",
              "  <div class=\"colab-df-container\">\n",
              "    <button class=\"colab-df-convert\" onclick=\"convertToInteractive('df-3a73b1f6-f019-4a6f-aa10-8596888bbd57')\"\n",
              "            title=\"Convert this dataframe to an interactive table.\"\n",
              "            style=\"display:none;\">\n",
              "\n",
              "  <svg xmlns=\"http://www.w3.org/2000/svg\" height=\"24px\" viewBox=\"0 -960 960 960\">\n",
              "    <path d=\"M120-120v-720h720v720H120Zm60-500h600v-160H180v160Zm220 220h160v-160H400v160Zm0 220h160v-160H400v160ZM180-400h160v-160H180v160Zm440 0h160v-160H620v160ZM180-180h160v-160H180v160Zm440 0h160v-160H620v160Z\"/>\n",
              "  </svg>\n",
              "    </button>\n",
              "\n",
              "  <style>\n",
              "    .colab-df-container {\n",
              "      display:flex;\n",
              "      gap: 12px;\n",
              "    }\n",
              "\n",
              "    .colab-df-convert {\n",
              "      background-color: #E8F0FE;\n",
              "      border: none;\n",
              "      border-radius: 50%;\n",
              "      cursor: pointer;\n",
              "      display: none;\n",
              "      fill: #1967D2;\n",
              "      height: 32px;\n",
              "      padding: 0 0 0 0;\n",
              "      width: 32px;\n",
              "    }\n",
              "\n",
              "    .colab-df-convert:hover {\n",
              "      background-color: #E2EBFA;\n",
              "      box-shadow: 0px 1px 2px rgba(60, 64, 67, 0.3), 0px 1px 3px 1px rgba(60, 64, 67, 0.15);\n",
              "      fill: #174EA6;\n",
              "    }\n",
              "\n",
              "    .colab-df-buttons div {\n",
              "      margin-bottom: 4px;\n",
              "    }\n",
              "\n",
              "    [theme=dark] .colab-df-convert {\n",
              "      background-color: #3B4455;\n",
              "      fill: #D2E3FC;\n",
              "    }\n",
              "\n",
              "    [theme=dark] .colab-df-convert:hover {\n",
              "      background-color: #434B5C;\n",
              "      box-shadow: 0px 1px 3px 1px rgba(0, 0, 0, 0.15);\n",
              "      filter: drop-shadow(0px 1px 2px rgba(0, 0, 0, 0.3));\n",
              "      fill: #FFFFFF;\n",
              "    }\n",
              "  </style>\n",
              "\n",
              "    <script>\n",
              "      const buttonEl =\n",
              "        document.querySelector('#df-3a73b1f6-f019-4a6f-aa10-8596888bbd57 button.colab-df-convert');\n",
              "      buttonEl.style.display =\n",
              "        google.colab.kernel.accessAllowed ? 'block' : 'none';\n",
              "\n",
              "      async function convertToInteractive(key) {\n",
              "        const element = document.querySelector('#df-3a73b1f6-f019-4a6f-aa10-8596888bbd57');\n",
              "        const dataTable =\n",
              "          await google.colab.kernel.invokeFunction('convertToInteractive',\n",
              "                                                    [key], {});\n",
              "        if (!dataTable) return;\n",
              "\n",
              "        const docLinkHtml = 'Like what you see? Visit the ' +\n",
              "          '<a target=\"_blank\" href=https://colab.research.google.com/notebooks/data_table.ipynb>data table notebook</a>'\n",
              "          + ' to learn more about interactive tables.';\n",
              "        element.innerHTML = '';\n",
              "        dataTable['output_type'] = 'display_data';\n",
              "        await google.colab.output.renderOutput(dataTable, element);\n",
              "        const docLink = document.createElement('div');\n",
              "        docLink.innerHTML = docLinkHtml;\n",
              "        element.appendChild(docLink);\n",
              "      }\n",
              "    </script>\n",
              "  </div>\n",
              "\n",
              "\n",
              "    <div id=\"df-609c0b8e-d283-40a6-9d3d-fea71484d246\">\n",
              "      <button class=\"colab-df-quickchart\" onclick=\"quickchart('df-609c0b8e-d283-40a6-9d3d-fea71484d246')\"\n",
              "                title=\"Suggest charts\"\n",
              "                style=\"display:none;\">\n",
              "\n",
              "<svg xmlns=\"http://www.w3.org/2000/svg\" height=\"24px\"viewBox=\"0 0 24 24\"\n",
              "     width=\"24px\">\n",
              "    <g>\n",
              "        <path d=\"M19 3H5c-1.1 0-2 .9-2 2v14c0 1.1.9 2 2 2h14c1.1 0 2-.9 2-2V5c0-1.1-.9-2-2-2zM9 17H7v-7h2v7zm4 0h-2V7h2v10zm4 0h-2v-4h2v4z\"/>\n",
              "    </g>\n",
              "</svg>\n",
              "      </button>\n",
              "\n",
              "<style>\n",
              "  .colab-df-quickchart {\n",
              "      --bg-color: #E8F0FE;\n",
              "      --fill-color: #1967D2;\n",
              "      --hover-bg-color: #E2EBFA;\n",
              "      --hover-fill-color: #174EA6;\n",
              "      --disabled-fill-color: #AAA;\n",
              "      --disabled-bg-color: #DDD;\n",
              "  }\n",
              "\n",
              "  [theme=dark] .colab-df-quickchart {\n",
              "      --bg-color: #3B4455;\n",
              "      --fill-color: #D2E3FC;\n",
              "      --hover-bg-color: #434B5C;\n",
              "      --hover-fill-color: #FFFFFF;\n",
              "      --disabled-bg-color: #3B4455;\n",
              "      --disabled-fill-color: #666;\n",
              "  }\n",
              "\n",
              "  .colab-df-quickchart {\n",
              "    background-color: var(--bg-color);\n",
              "    border: none;\n",
              "    border-radius: 50%;\n",
              "    cursor: pointer;\n",
              "    display: none;\n",
              "    fill: var(--fill-color);\n",
              "    height: 32px;\n",
              "    padding: 0;\n",
              "    width: 32px;\n",
              "  }\n",
              "\n",
              "  .colab-df-quickchart:hover {\n",
              "    background-color: var(--hover-bg-color);\n",
              "    box-shadow: 0 1px 2px rgba(60, 64, 67, 0.3), 0 1px 3px 1px rgba(60, 64, 67, 0.15);\n",
              "    fill: var(--button-hover-fill-color);\n",
              "  }\n",
              "\n",
              "  .colab-df-quickchart-complete:disabled,\n",
              "  .colab-df-quickchart-complete:disabled:hover {\n",
              "    background-color: var(--disabled-bg-color);\n",
              "    fill: var(--disabled-fill-color);\n",
              "    box-shadow: none;\n",
              "  }\n",
              "\n",
              "  .colab-df-spinner {\n",
              "    border: 2px solid var(--fill-color);\n",
              "    border-color: transparent;\n",
              "    border-bottom-color: var(--fill-color);\n",
              "    animation:\n",
              "      spin 1s steps(1) infinite;\n",
              "  }\n",
              "\n",
              "  @keyframes spin {\n",
              "    0% {\n",
              "      border-color: transparent;\n",
              "      border-bottom-color: var(--fill-color);\n",
              "      border-left-color: var(--fill-color);\n",
              "    }\n",
              "    20% {\n",
              "      border-color: transparent;\n",
              "      border-left-color: var(--fill-color);\n",
              "      border-top-color: var(--fill-color);\n",
              "    }\n",
              "    30% {\n",
              "      border-color: transparent;\n",
              "      border-left-color: var(--fill-color);\n",
              "      border-top-color: var(--fill-color);\n",
              "      border-right-color: var(--fill-color);\n",
              "    }\n",
              "    40% {\n",
              "      border-color: transparent;\n",
              "      border-right-color: var(--fill-color);\n",
              "      border-top-color: var(--fill-color);\n",
              "    }\n",
              "    60% {\n",
              "      border-color: transparent;\n",
              "      border-right-color: var(--fill-color);\n",
              "    }\n",
              "    80% {\n",
              "      border-color: transparent;\n",
              "      border-right-color: var(--fill-color);\n",
              "      border-bottom-color: var(--fill-color);\n",
              "    }\n",
              "    90% {\n",
              "      border-color: transparent;\n",
              "      border-bottom-color: var(--fill-color);\n",
              "    }\n",
              "  }\n",
              "</style>\n",
              "\n",
              "      <script>\n",
              "        async function quickchart(key) {\n",
              "          const quickchartButtonEl =\n",
              "            document.querySelector('#' + key + ' button');\n",
              "          quickchartButtonEl.disabled = true;  // To prevent multiple clicks.\n",
              "          quickchartButtonEl.classList.add('colab-df-spinner');\n",
              "          try {\n",
              "            const charts = await google.colab.kernel.invokeFunction(\n",
              "                'suggestCharts', [key], {});\n",
              "          } catch (error) {\n",
              "            console.error('Error during call to suggestCharts:', error);\n",
              "          }\n",
              "          quickchartButtonEl.classList.remove('colab-df-spinner');\n",
              "          quickchartButtonEl.classList.add('colab-df-quickchart-complete');\n",
              "        }\n",
              "        (() => {\n",
              "          let quickchartButtonEl =\n",
              "            document.querySelector('#df-609c0b8e-d283-40a6-9d3d-fea71484d246 button');\n",
              "          quickchartButtonEl.style.display =\n",
              "            google.colab.kernel.accessAllowed ? 'block' : 'none';\n",
              "        })();\n",
              "      </script>\n",
              "    </div>\n",
              "\n",
              "    </div>\n",
              "  </div>\n"
            ],
            "application/vnd.google.colaboratory.intrinsic+json": {
              "type": "dataframe",
              "variable_name": "df",
              "summary": "{\n  \"name\": \"df\",\n  \"rows\": 10,\n  \"fields\": [\n    {\n      \"column\": \"Video Title\",\n      \"properties\": {\n        \"dtype\": \"string\",\n        \"num_unique_values\": 10,\n        \"samples\": [\n          \"Color Grading Hacks\",\n          \"Loopin Teaser\",\n          \"Funny Voiceover Test\"\n        ],\n        \"semantic_type\": \"\",\n        \"description\": \"\"\n      }\n    },\n    {\n      \"column\": \"Upload Date\",\n      \"properties\": {\n        \"dtype\": \"object\",\n        \"num_unique_values\": 10,\n        \"samples\": [\n          \"2024-09-05\",\n          \"2024-08-05\",\n          \"2024-08-20\"\n        ],\n        \"semantic_type\": \"\",\n        \"description\": \"\"\n      }\n    },\n    {\n      \"column\": \"Views\",\n      \"properties\": {\n        \"dtype\": \"number\",\n        \"std\": 1865,\n        \"min\": 1000,\n        \"max\": 7000,\n        \"num_unique_values\": 10,\n        \"samples\": [\n          2000,\n          4000,\n          1100\n        ],\n        \"semantic_type\": \"\",\n        \"description\": \"\"\n      }\n    },\n    {\n      \"column\": \"Likes\",\n      \"properties\": {\n        \"dtype\": \"number\",\n        \"std\": 159,\n        \"min\": 100,\n        \"max\": 600,\n        \"num_unique_values\": 10,\n        \"samples\": [\n          200,\n          400,\n          110\n        ],\n        \"semantic_type\": \"\",\n        \"description\": \"\"\n      }\n    },\n    {\n      \"column\": \"Comments\",\n      \"properties\": {\n        \"dtype\": \"number\",\n        \"std\": 19,\n        \"min\": 10,\n        \"max\": 70,\n        \"num_unique_values\": 10,\n        \"samples\": [\n          25,\n          45,\n          11\n        ],\n        \"semantic_type\": \"\",\n        \"description\": \"\"\n      }\n    },\n    {\n      \"column\": \"Watch Time (mins)\",\n      \"properties\": {\n        \"dtype\": \"number\",\n        \"std\": 1740,\n        \"min\": 500,\n        \"max\": 6000,\n        \"num_unique_values\": 9,\n        \"samples\": [\n          1800,\n          3200,\n          530\n        ],\n        \"semantic_type\": \"\",\n        \"description\": \"\"\n      }\n    },\n    {\n      \"column\": \"Estimated Revenue ($)\",\n      \"properties\": {\n        \"dtype\": \"number\",\n        \"std\": 4.429760465056522,\n        \"min\": 1.0,\n        \"max\": 15.0,\n        \"num_unique_values\": 10,\n        \"samples\": [\n          3.8,\n          8.5,\n          1.3\n        ],\n        \"semantic_type\": \"\",\n        \"description\": \"\"\n      }\n    }\n  ]\n}"
            }
          },
          "metadata": {},
          "execution_count": 30
        }
      ]
    },
    {
      "cell_type": "code",
      "source": [
        "#Most Views\n",
        "\n",
        "most_views = df[df['Views'] == df['Views'].max()]\n",
        "\n",
        "print(\"The video which has most views is : \\n\" ,most_views)"
      ],
      "metadata": {
        "colab": {
          "base_uri": "https://localhost:8080/"
        },
        "id": "kd7ZB8Yg1Lbe",
        "outputId": "c4d08896-cd07-4809-d1b5-691fd7166d25"
      },
      "execution_count": 31,
      "outputs": [
        {
          "output_type": "stream",
          "name": "stdout",
          "text": [
            "The video which has most views is : \n",
            "              Video Title Upload Date  Views  Likes  Comments  \\\n",
            "9  LOOPIN: Final Trailer  2024-09-10   7000    600        70   \n",
            "\n",
            "   Watch Time (mins)  Estimated Revenue ($)  \n",
            "9               6000                   15.0  \n"
          ]
        }
      ]
    },
    {
      "cell_type": "code",
      "source": [
        "#Average Data\n",
        "\n",
        "avg_views = df['Views'].mean()\n",
        "avg_likes = df['Likes'].mean()\n",
        "avg_revenue = df['Estimated Revenue ($)'].mean()\n",
        "\n",
        "print(\"Average Views: \\n\", avg_views)\n",
        "print(\"Average likes: \\n\",avg_likes)\n",
        "print(\"Average Revenue: \\n\",avg_revenue)"
      ],
      "metadata": {
        "colab": {
          "base_uri": "https://localhost:8080/"
        },
        "id": "eI2K--WN1N85",
        "outputId": "84943872-9edd-48b8-c185-03d8483925b9"
      },
      "execution_count": 32,
      "outputs": [
        {
          "output_type": "stream",
          "name": "stdout",
          "text": [
            "Average Views: \n",
            " 2340.0\n",
            "Average likes: \n",
            " 224.0\n",
            "Average Revenue: \n",
            " 4.15\n"
          ]
        }
      ]
    },
    {
      "cell_type": "code",
      "source": [
        "#Top 5 videos\n",
        "\n",
        "top5 = df.sort_values('Views', ascending = False).head(5)\n",
        "\n",
        "print(top5[['Video Title' , 'Views']])"
      ],
      "metadata": {
        "colab": {
          "base_uri": "https://localhost:8080/"
        },
        "id": "ttofJsPj9twu",
        "outputId": "9651e85c-2b91-46b7-eccf-3f22fac1cf13"
      },
      "execution_count": 35,
      "outputs": [
        {
          "output_type": "stream",
          "name": "stdout",
          "text": [
            "             Video Title  Views\n",
            "9  LOOPIN: Final Trailer   7000\n",
            "1          Loopin Teaser   4000\n",
            "4  Instagram Growth Tips   2500\n",
            "8    Color Grading Hacks   2000\n",
            "6    Editing with CapCut   1800\n"
          ]
        }
      ]
    },
    {
      "cell_type": "code",
      "source": [
        "#Earned more than 5$\n",
        "\n",
        "earn5 = df[df['Estimated Revenue ($)'] > 5]\n",
        "\n",
        "print(earn5[['Video Title' , 'Estimated Revenue ($)']])"
      ],
      "metadata": {
        "colab": {
          "base_uri": "https://localhost:8080/"
        },
        "id": "tHvzA_FG_M5w",
        "outputId": "d0a2cf21-6801-4310-f3e5-0f9ff1b97c82"
      },
      "execution_count": 36,
      "outputs": [
        {
          "output_type": "stream",
          "name": "stdout",
          "text": [
            "             Video Title  Estimated Revenue ($)\n",
            "1          Loopin Teaser                    8.5\n",
            "9  LOOPIN: Final Trailer                   15.0\n"
          ]
        }
      ]
    },
    {
      "cell_type": "code",
      "source": [
        "#Low View Filter\n",
        "\n",
        "low_view = df[df['Views'] <1500]\n",
        "print(low_view[['Video Title' , 'Views' ]])"
      ],
      "metadata": {
        "colab": {
          "base_uri": "https://localhost:8080/"
        },
        "id": "j9W0kFPrAAXc",
        "outputId": "05db1ffd-634a-440e-95a8-c9b88490479a"
      },
      "execution_count": 46,
      "outputs": [
        {
          "output_type": "stream",
          "name": "stdout",
          "text": [
            "            Video Title  Views\n",
            "0     How to Edit Reels   1200\n",
            "3         My Setup Tour   1000\n",
            "5  Funny Voiceover Test   1100\n",
            "7          Meet My Team   1300\n"
          ]
        }
      ]
    },
    {
      "cell_type": "code",
      "source": [
        "#Adding an Extra column\n",
        "\n",
        "df['Performance'] = df['Views'].apply(lambda x: \"HITT🔥\" if x>3000 else \"Flopp📉\")\n",
        "\n",
        "print(df[['Video Title', 'Views', 'Performance']])"
      ],
      "metadata": {
        "colab": {
          "base_uri": "https://localhost:8080/"
        },
        "id": "ECWQpMvNBXFa",
        "outputId": "13c33515-1263-4940-d3d1-0a0c8c14b9ab"
      },
      "execution_count": 47,
      "outputs": [
        {
          "output_type": "stream",
          "name": "stdout",
          "text": [
            "             Video Title  Views Performance\n",
            "0      How to Edit Reels   1200      Flopp📉\n",
            "1          Loopin Teaser   4000       HITT🔥\n",
            "2       Behind the Sound   1500      Flopp📉\n",
            "3          My Setup Tour   1000      Flopp📉\n",
            "4  Instagram Growth Tips   2500      Flopp📉\n",
            "5   Funny Voiceover Test   1100      Flopp📉\n",
            "6    Editing with CapCut   1800      Flopp📉\n",
            "7           Meet My Team   1300      Flopp📉\n",
            "8    Color Grading Hacks   2000      Flopp📉\n",
            "9  LOOPIN: Final Trailer   7000       HITT🔥\n"
          ]
        }
      ]
    },
    {
      "cell_type": "code",
      "source": [
        "#Conversion of $ to Rs.\n",
        "\n",
        "\n",
        "df['Revenue in INR'] = df['Estimated Revenue ($)'] *83\n",
        "\n",
        "print(df[['Video Title', 'Estimated Revenue ($)', 'Revenue in INR']])"
      ],
      "metadata": {
        "colab": {
          "base_uri": "https://localhost:8080/"
        },
        "id": "PrdCkqcMCkzD",
        "outputId": "fb49affa-be25-4467-f849-11e571967a31"
      },
      "execution_count": 57,
      "outputs": [
        {
          "output_type": "stream",
          "name": "stdout",
          "text": [
            "             Video Title  Estimated Revenue ($)  Revenue in INR\n",
            "0      How to Edit Reels                    1.2            99.6\n",
            "1          Loopin Teaser                    8.5           705.5\n",
            "2       Behind the Sound                    2.1           174.3\n",
            "3          My Setup Tour                    1.0            83.0\n",
            "4  Instagram Growth Tips                    4.2           348.6\n",
            "5   Funny Voiceover Test                    1.3           107.9\n",
            "6    Editing with CapCut                    3.0           249.0\n",
            "7           Meet My Team                    1.4           116.2\n",
            "8    Color Grading Hacks                    3.8           315.4\n",
            "9  LOOPIN: Final Trailer                   15.0          1245.0\n"
          ]
        }
      ]
    }
  ]
}